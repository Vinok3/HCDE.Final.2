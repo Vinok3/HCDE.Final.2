{
 "cells": [
  {
   "cell_type": "markdown",
   "id": "156e376b-5346-4ab3-a9b1-15d71df6b3c6",
   "metadata": {},
   "source": [
    "# Motivation and problem statement\n",
    "\n",
    "One or more paragraphs of text that answers the questions:\n",
    "I’m planning this analysis because I’m interested to know if the social pressures on women, especially younger women, translate to more money being spent per item on their clothing as compared to men. This is potentially useful because it could highlight the financial consequences of a social expectation. Additionally, this could open the door to exploring whether women’s items are priced higher as compared to men’s items, or whether women feel pressured to purchase higher-priced items. I hope to learn whether there is a difference between the prices of similar items purchased by men and women, or whether the prices are similar.\n",
    "\n",
    "\n",
    "# Data selected for analysis\n",
    "\n",
    "The dataset I plan to use is the Consumer Behavior And Shopping Habits dataset Shahzad Aslam shared to Kaggle. I’m using this dataset because it contains information on thousands of purchases, including the gender and age of the customer, the type of garment they purchased, and how much it cost them. The link to this dataset is https://www.kaggle.com/datasets/zeesolver/consumer-behavior-and-shopping-habits-dataset?resource=download. The license for this data is a CC0 1.0 universal deed. There is no copyright on this work and it may be used by anyone. It can be copied, modified, distributed, and performed without asking permission. This dataset is suitable for addressing my research goal because it contains all parameters I am interested in: age, gender, item purchased, and price. \n",
    "\n",
    "# Ethical Considerations\n",
    "\n",
    "Possible ethical considerations to using this dataset include a blind spot for people who are male or female, but identify as women or men. This would compromise the quality of work done, as well, as the purpose is to measure the impact on women, regardless of sex.\n",
    "\n",
    "# Unknowns\n",
    "\n",
    "Factors outside of my control that might impact my ability to complete this project by the end of the quarter include my workload as a student, my responsibilities at my job, and the variable nature of health and the impact of health on performance.\n",
    "\n",
    "# Overview and research questions\n",
    "\n",
    "The motivation of this project is to understand what differences exist between the price of clothing for men and women, and to understand how the prices women pay may change over women’s lifespans. The goal is to create data visualizations that express these differences and trends. My research question is: do gender and age impact prices paid for clothing items? My hypothesis is gender and age have an impact on prices paid for clothing items, with women paying more than men and younger women paying more than older women.\n",
    "\n",
    "# Background and Related Work\n",
    "\n",
    "The World Economic Forum stated in 2022, “In the United States, one government study analysed 800 gender-specific products from nearly 100 brands. The report found that, on average, personal care products targeted to women were 13% more expensive than similar men’s products. Accessories and adult clothing were 7% and 8% more expensive, respectively.” The link for this article is https://www.weforum.org/stories/2022/07/what-is-the-pink-tax-and-how-does-it-hinder-women/#:~:text=In%20the%20United%20States%2C%20one,8%25%20more%20expensive%2C%20respectively. This research encourages me to perform this study so that I can either replicate- or challenge, the findings.\n",
    "\n",
    "# Methodology\n",
    "\n",
    "The analytical methods I intend to use to answer my questions are pivot tables in Google Sheets. The method I plan to use to present my findings is column charts and line charts. The y axis of both charts will be prices, the x axis will show age, and columns will be male and female, one each per age point. The line charts will have the same x and y variables, but will show the trends for a single gender at a time. Column charts will be helpful because they can show, side-by-side, the prices men and women pay for the same items at the same age. Line charts are appropriate because they will show price trends for women over the span of their adult lives."
   ]
  },
  {
   "cell_type": "code",
   "execution_count": null,
   "id": "7025bbb0-e922-4617-ac45-3cf6cb40ce6c",
   "metadata": {},
   "outputs": [],
   "source": []
  }
 ],
 "metadata": {
  "kernelspec": {
   "display_name": "Python 3 (ipykernel)",
   "language": "python",
   "name": "python3"
  },
  "language_info": {
   "codemirror_mode": {
    "name": "ipython",
    "version": 3
   },
   "file_extension": ".py",
   "mimetype": "text/x-python",
   "name": "python",
   "nbconvert_exporter": "python",
   "pygments_lexer": "ipython3",
   "version": "3.10.13"
  }
 },
 "nbformat": 4,
 "nbformat_minor": 5
}
